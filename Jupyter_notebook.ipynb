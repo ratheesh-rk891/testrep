{
 "cells": [
  {
   "cell_type": "markdown",
   "id": "9ce2f9d0-372f-4355-9e1b-fc622a68f200",
   "metadata": {},
   "source": [
    "# My Jupyter Notebook on IBM Watson Studio"
   ]
  },
  {
   "cell_type": "markdown",
   "id": "5e8c2101-e3a3-4555-b298-54d4c7f571de",
   "metadata": {},
   "source": [
    "__RATHEESH__  Student"
   ]
  },
  {
   "cell_type": "markdown",
   "id": "1b6f7dd4-caab-4381-a377-1dd4be6dc245",
   "metadata": {},
   "source": [
    "*I am interested in data science because data science is a very good career with tremendous opportunities for advancement in the future. Already, demand is high, salaries are competitive, and the perks are numerous*"
   ]
  },
  {
   "cell_type": "markdown",
   "id": "a49eb0de-ce25-4eab-8483-5e1d4e00468f",
   "metadata": {},
   "source": [
    "### This program prints Hello, world!\n"
   ]
  },
  {
   "cell_type": "code",
   "execution_count": 4,
   "id": "48bf1ab0-2137-4c0a-996c-ac848f5b0f75",
   "metadata": {},
   "outputs": [
    {
     "name": "stdout",
     "output_type": "stream",
     "text": [
      "Hello, world!\n"
     ]
    }
   ],
   "source": [
    "print('Hello, world!')"
   ]
  },
  {
   "cell_type": "markdown",
   "id": "e15cf5d1-c73f-4fa1-8ffe-32bb30ab6559",
   "metadata": {},
   "source": [
    "1. Horizontal line\n",
    "***\n",
    "\n",
    "2. Bulleted list\n",
    "- First Name\n",
    "- Last name\n",
    "    - DOB\n",
    "    \n",
    "3. Table\n",
    "\n",
    " | Name | Gender | Age |\n",
    " |:---- |:------ |:----|\n",
    " | Max  | Female | 20  |\n",
    " | Joe  | Male   | 21  |"
   ]
  },
  {
   "cell_type": "code",
   "execution_count": null,
   "id": "a1b590d0-8ebb-465a-bd6d-703c0f544fb3",
   "metadata": {},
   "outputs": [],
   "source": []
  }
 ],
 "metadata": {
  "kernelspec": {
   "display_name": "Python",
   "language": "python",
   "name": "conda-env-python-py"
  },
  "language_info": {
   "codemirror_mode": {
    "name": "ipython",
    "version": 3
   },
   "file_extension": ".py",
   "mimetype": "text/x-python",
   "name": "python",
   "nbconvert_exporter": "python",
   "pygments_lexer": "ipython3",
   "version": "3.7.12"
  }
 },
 "nbformat": 4,
 "nbformat_minor": 5
}
